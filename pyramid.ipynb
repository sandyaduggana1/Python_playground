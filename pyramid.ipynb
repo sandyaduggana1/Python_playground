{
 "cells": [
  {
   "cell_type": "code",
   "execution_count": 118,
   "id": "fbd497c0",
   "metadata": {},
   "outputs": [
    {
     "name": "stdout",
     "output_type": "stream",
     "text": [
      "Enter n value4\n",
      "1\n",
      "\n",
      "121\n",
      "\n",
      "12321\n",
      "\n"
     ]
    }
   ],
   "source": [
    "n = int(input(\"Enter n value\"))\n",
    "for i in range(1,n):\n",
    "  \n",
    "    for j in range(i):\n",
    "        print(j+1,end=\"\")\n",
    "        \n",
    "    for k in range(j,0,-1):\n",
    "            print(k,end=\"\")    \n",
    "    print('\\n')\n",
    "\n"
   ]
  },
  {
   "cell_type": "code",
   "execution_count": 171,
   "id": "7c1beaa8",
   "metadata": {},
   "outputs": [
    {
     "name": "stdout",
     "output_type": "stream",
     "text": [
      "Enter n value 5\n",
      "1 2 3 4 5 \n",
      "\n",
      "  1 2 3 4 \n",
      "\n",
      "    1 2 3 \n",
      "\n",
      "      1 2 \n",
      "\n",
      "        1 \n",
      "\n"
     ]
    }
   ],
   "source": [
    "n = int(input('Enter n value '))\n",
    "for i in range(n,0,-1):\n",
    "    for k in range(n-i):\n",
    "        print(' ',end=\" \")\n",
    "    for j in range(i):\n",
    "        print(j+1,end=\" \")\n",
    "    \n",
    "        \n",
    "    print('\\n')\n",
    "    \n",
    "            "
   ]
  },
  {
   "cell_type": "code",
   "execution_count": 182,
   "id": "0f987835",
   "metadata": {},
   "outputs": [
    {
     "name": "stdout",
     "output_type": "stream",
     "text": [
      "Enter n value 20\n",
      "                                    1 \n",
      "\n",
      "                                  1 2 1 \n",
      "\n",
      "                                1 2 3 2 1 \n",
      "\n",
      "                              1 2 3 4 3 2 1 \n",
      "\n",
      "                            1 2 3 4 5 4 3 2 1 \n",
      "\n",
      "                          1 2 3 4 5 6 5 4 3 2 1 \n",
      "\n",
      "                        1 2 3 4 5 6 7 6 5 4 3 2 1 \n",
      "\n",
      "                      1 2 3 4 5 6 7 8 7 6 5 4 3 2 1 \n",
      "\n",
      "                    1 2 3 4 5 6 7 8 9 8 7 6 5 4 3 2 1 \n",
      "\n",
      "                  1 2 3 4 5 6 7 8 9 10 9 8 7 6 5 4 3 2 1 \n",
      "\n",
      "                1 2 3 4 5 6 7 8 9 10 11 10 9 8 7 6 5 4 3 2 1 \n",
      "\n",
      "              1 2 3 4 5 6 7 8 9 10 11 12 11 10 9 8 7 6 5 4 3 2 1 \n",
      "\n",
      "            1 2 3 4 5 6 7 8 9 10 11 12 13 12 11 10 9 8 7 6 5 4 3 2 1 \n",
      "\n",
      "          1 2 3 4 5 6 7 8 9 10 11 12 13 14 13 12 11 10 9 8 7 6 5 4 3 2 1 \n",
      "\n",
      "        1 2 3 4 5 6 7 8 9 10 11 12 13 14 15 14 13 12 11 10 9 8 7 6 5 4 3 2 1 \n",
      "\n",
      "      1 2 3 4 5 6 7 8 9 10 11 12 13 14 15 16 15 14 13 12 11 10 9 8 7 6 5 4 3 2 1 \n",
      "\n",
      "    1 2 3 4 5 6 7 8 9 10 11 12 13 14 15 16 17 16 15 14 13 12 11 10 9 8 7 6 5 4 3 2 1 \n",
      "\n",
      "  1 2 3 4 5 6 7 8 9 10 11 12 13 14 15 16 17 18 17 16 15 14 13 12 11 10 9 8 7 6 5 4 3 2 1 \n",
      "\n",
      "1 2 3 4 5 6 7 8 9 10 11 12 13 14 15 16 17 18 19 18 17 16 15 14 13 12 11 10 9 8 7 6 5 4 3 2 1 \n",
      "\n",
      "  1 2 3 4 5 6 7 8 9 10 11 12 13 14 15 16 17 18 17 16 15 14 13 12 11 10 9 8 7 6 5 4 3 2 1 \n",
      "\n",
      "    1 2 3 4 5 6 7 8 9 10 11 12 13 14 15 16 17 16 15 14 13 12 11 10 9 8 7 6 5 4 3 2 1 \n",
      "\n",
      "      1 2 3 4 5 6 7 8 9 10 11 12 13 14 15 16 15 14 13 12 11 10 9 8 7 6 5 4 3 2 1 \n",
      "\n",
      "        1 2 3 4 5 6 7 8 9 10 11 12 13 14 15 14 13 12 11 10 9 8 7 6 5 4 3 2 1 \n",
      "\n",
      "          1 2 3 4 5 6 7 8 9 10 11 12 13 14 13 12 11 10 9 8 7 6 5 4 3 2 1 \n",
      "\n",
      "            1 2 3 4 5 6 7 8 9 10 11 12 13 12 11 10 9 8 7 6 5 4 3 2 1 \n",
      "\n",
      "              1 2 3 4 5 6 7 8 9 10 11 12 11 10 9 8 7 6 5 4 3 2 1 \n",
      "\n",
      "                1 2 3 4 5 6 7 8 9 10 11 10 9 8 7 6 5 4 3 2 1 \n",
      "\n",
      "                  1 2 3 4 5 6 7 8 9 10 9 8 7 6 5 4 3 2 1 \n",
      "\n",
      "                    1 2 3 4 5 6 7 8 9 8 7 6 5 4 3 2 1 \n",
      "\n",
      "                      1 2 3 4 5 6 7 8 7 6 5 4 3 2 1 \n",
      "\n",
      "                        1 2 3 4 5 6 7 6 5 4 3 2 1 \n",
      "\n",
      "                          1 2 3 4 5 6 5 4 3 2 1 \n",
      "\n",
      "                            1 2 3 4 5 4 3 2 1 \n",
      "\n",
      "                              1 2 3 4 3 2 1 \n",
      "\n",
      "                                1 2 3 2 1 \n",
      "\n",
      "                                  1 2 1 \n",
      "\n",
      "                                    1 \n",
      "\n"
     ]
    }
   ],
   "source": [
    "n= int(input(\"Enter n value \"))\n",
    "for i in range(1,n):\n",
    "    for j in range((n-i),1,-1):\n",
    "        print(\" \",end=\" \")    \n",
    "    for k in range(i):\n",
    "        print(k+1,end=\" \")\n",
    "    for l in range(i-1,0,-1):\n",
    "        print(l,end=\" \")\n",
    "    print(\"\\n\")\n",
    "    \n",
    "for a in range(n-2,0,-1):\n",
    "    for b in range(n-a-1):\n",
    "        print(' ',end=\" \")\n",
    "    for c in range(a):\n",
    "        print(c+1,end=\" \")\n",
    "    for d in range(a-1,0,-1):\n",
    "        print(d,end=\" \")\n",
    "    print('\\n')\n",
    "\n",
    " \n",
    "   \n"
   ]
  },
  {
   "cell_type": "code",
   "execution_count": 148,
   "id": "0084f920",
   "metadata": {},
   "outputs": [
    {
     "name": "stdout",
     "output_type": "stream",
     "text": [
      "01\n"
     ]
    }
   ],
   "source": [
    "print(\"0\" + str(1))"
   ]
  },
  {
   "cell_type": "markdown",
   "id": "80fb1e2b",
   "metadata": {},
   "source": [
    "# this is my code\n",
    "## dasndta\n",
    "### isha\n",
    "\n",
    "- ttt\n",
    "- jjjj\n"
   ]
  },
  {
   "cell_type": "code",
   "execution_count": 105,
   "id": "ae6e21c5",
   "metadata": {},
   "outputs": [
    {
     "name": "stdout",
     "output_type": "stream",
     "text": [
      "1\n",
      "\n",
      "12\n",
      "\n",
      "123\n",
      "\n",
      "1234\n",
      "\n",
      "12345\n",
      "\n"
     ]
    }
   ],
   "source": [
    "for i in range(1,6):\n",
    "    for j in range(i):\n",
    "        print(j+1,end=\"\")\n",
    "        \n",
    "   # for k in range(j,0,-1):\n",
    "           # print(k,end=\"\")    \n",
    "    print('\\n')"
   ]
  },
  {
   "cell_type": "code",
   "execution_count": 87,
   "id": "ee92517a",
   "metadata": {},
   "outputs": [
    {
     "name": "stdout",
     "output_type": "stream",
     "text": [
      "\n"
     ]
    }
   ],
   "source": [
    "print(\"\")"
   ]
  },
  {
   "cell_type": "code",
   "execution_count": 24,
   "id": "d90c579e",
   "metadata": {},
   "outputs": [
    {
     "name": "stdout",
     "output_type": "stream",
     "text": [
      "\n",
      "\n",
      "1\n",
      "\n",
      "21\n",
      "\n",
      "321\n",
      "\n",
      "4321\n",
      "\n",
      "54321\n",
      "\n"
     ]
    }
   ],
   "source": [
    "for i in range(6):\n",
    "   for j in range(i,0,-1):\n",
    "      #print(i)\n",
    "      print(j,end=\"\")\n",
    "   print('\\n')\n",
    "    "
   ]
  },
  {
   "cell_type": "code",
   "execution_count": 21,
   "id": "dbf40ccd",
   "metadata": {},
   "outputs": [
    {
     "name": "stdout",
     "output_type": "stream",
     "text": [
      "123456\n",
      "\n",
      "12345\n",
      "\n",
      "1234\n",
      "\n",
      "123\n",
      "\n",
      "12\n",
      "\n"
     ]
    }
   ],
   "source": [
    "for i in range(6,1,-1):\n",
    "    for j in range(i):\n",
    "      print(j+1,end=\"\")\n",
    "    print('\\n')\n",
    "\n"
   ]
  },
  {
   "cell_type": "code",
   "execution_count": 22,
   "id": "4ecf5a5d",
   "metadata": {},
   "outputs": [
    {
     "name": "stdout",
     "output_type": "stream",
     "text": [
      "54321\n",
      "\n",
      "4321\n",
      "\n",
      "321\n",
      "\n",
      "21\n",
      "\n",
      "1\n",
      "\n"
     ]
    }
   ],
   "source": [
    "for i in range(5,0,-1):\n",
    "    for j in range(i,0,-1):\n",
    "      print(j,end=\"\")\n",
    "    print('\\n')"
   ]
  },
  {
   "cell_type": "code",
   "execution_count": null,
   "id": "c81a2667",
   "metadata": {},
   "outputs": [],
   "source": []
  },
  {
   "cell_type": "code",
   "execution_count": null,
   "id": "d060344e",
   "metadata": {},
   "outputs": [],
   "source": []
  }
 ],
 "metadata": {
  "kernelspec": {
   "display_name": "Python 3 (ipykernel)",
   "language": "python",
   "name": "python3"
  },
  "language_info": {
   "codemirror_mode": {
    "name": "ipython",
    "version": 3
   },
   "file_extension": ".py",
   "mimetype": "text/x-python",
   "name": "python",
   "nbconvert_exporter": "python",
   "pygments_lexer": "ipython3",
   "version": "3.9.13"
  }
 },
 "nbformat": 4,
 "nbformat_minor": 5
}
